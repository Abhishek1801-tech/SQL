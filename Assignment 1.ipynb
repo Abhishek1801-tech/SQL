{
 "cells": [
  {
   "cell_type": "markdown",
   "id": "304f4227",
   "metadata": {},
   "source": [
    "ASSIGNMENT 1\n"
   ]
  },
  {
   "cell_type": "markdown",
   "id": "2c3d7965",
   "metadata": {},
   "source": [
    "Q1. Write an SQL query to fetch “FIRST_NAME” from Worker table using the alias name as [\n",
    "WORKER_NAME]\n",
    "."
   ]
  },
  {
   "cell_type": "markdown",
   "id": "9a9b2cb9",
   "metadata": {},
   "source": [
    "Ans 1.Select [FIRST_NAME] as [Worker_Name] FROM Worker "
   ]
  },
  {
   "cell_type": "markdown",
   "id": "09714a95",
   "metadata": {},
   "source": [
    "Q2.Write an SQL query to fetch unique values of DEPARTMENT from Worker table."
   ]
  },
  {
   "cell_type": "markdown",
   "id": "567045fe",
   "metadata": {},
   "source": [
    "Ans 2. Select distinct DEPARTMENT from Worker"
   ]
  },
  {
   "cell_type": "markdown",
   "id": "9c849d63",
   "metadata": {},
   "source": [
    "Q3.Write an SQL query to show the last 5 record from a table."
   ]
  },
  {
   "cell_type": "markdown",
   "id": "ce3041b8",
   "metadata": {},
   "source": [
    "Ans 3.select top 5 * from table \n",
    "       Order by id desc "
   ]
  }
 ],
 "metadata": {
  "kernelspec": {
   "display_name": "Python 3 (ipykernel)",
   "language": "python",
   "name": "python3"
  },
  "language_info": {
   "codemirror_mode": {
    "name": "ipython",
    "version": 3
   },
   "file_extension": ".py",
   "mimetype": "text/x-python",
   "name": "python",
   "nbconvert_exporter": "python",
   "pygments_lexer": "ipython3",
   "version": "3.9.6"
  }
 },
 "nbformat": 4,
 "nbformat_minor": 5
}
